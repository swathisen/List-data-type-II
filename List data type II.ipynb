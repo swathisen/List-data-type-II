{
 "cells": [
  {
   "cell_type": "code",
   "execution_count": null,
   "id": "8de338f0",
   "metadata": {},
   "outputs": [],
   "source": [
    "Continuation of list data types\n",
    "Sorting\n",
    "Sort"
   ]
  },
  {
   "cell_type": "code",
   "execution_count": null,
   "id": "6e65c0d4",
   "metadata": {},
   "outputs": [],
   "source": [
    "## Organising List data types"
   ]
  },
  {
   "cell_type": "code",
   "execution_count": 9,
   "id": "c56bdb32",
   "metadata": {},
   "outputs": [
    {
     "name": "stdout",
     "output_type": "stream",
     "text": [
      "['benz', 'bmw', 'kia', 'audi', 'hyundai']\n"
     ]
    }
   ],
   "source": [
    "cars=[\"benz\",\"bmw\",\"kia\",\"audi\",\"hyundai\"]\n",
    "print(cars)"
   ]
  },
  {
   "cell_type": "code",
   "execution_count": null,
   "id": "bd611aa8",
   "metadata": {},
   "outputs": [],
   "source": [
    "## req : If we want to get it in alphabetical order\n",
    "\n",
    "we need to follow two methods\n",
    "1. sorted\n",
    "2.sort\n",
    "\n",
    "1. Sorted is a temporary approach which means we can sort the list of  cars in alphabitical order only for that execution it wont get changed in the assigned list.\n",
    "2. Sort is kind of permanent approach in thata the list of cars will be arranged alphabetically and stored as a permanent list. here after the values will be in alphabitical order irrespective of the original value  assigned to the list of cars.\n",
    "    Changes implied permanently**"
   ]
  },
  {
   "cell_type": "code",
   "execution_count": 10,
   "id": "e8b6f6a4",
   "metadata": {},
   "outputs": [
    {
     "name": "stdout",
     "output_type": "stream",
     "text": [
      "['audi', 'benz', 'bmw', 'hyundai', 'kia']\n"
     ]
    }
   ],
   "source": [
    "print(sorted(cars))"
   ]
  },
  {
   "cell_type": "code",
   "execution_count": null,
   "id": "3f3c0a37",
   "metadata": {},
   "outputs": [],
   "source": [
    "# Here we have two list of cars starting with \"b\".  do u know how it is arranged ? \n",
    "Ans:  whenever the first alphabet is same it will go and evaluate the nxt character here e, m.  Then arranged as benz, bmw."
   ]
  },
  {
   "cell_type": "code",
   "execution_count": 12,
   "id": "03687889",
   "metadata": {},
   "outputs": [
    {
     "name": "stdout",
     "output_type": "stream",
     "text": [
      "['benz', 'bmw', 'kia', 'audi', 'hyundai']\n"
     ]
    }
   ],
   "source": [
    "# we will check the sorting: whether the original returns back as sorting is temporary\n",
    " \n",
    "print(cars)"
   ]
  },
  {
   "cell_type": "code",
   "execution_count": null,
   "id": "18aa2d08",
   "metadata": {},
   "outputs": [],
   "source": [
    "## It listed the cars as original without alphabetically arranged."
   ]
  },
  {
   "cell_type": "code",
   "execution_count": 30,
   "id": "7d8a554f",
   "metadata": {},
   "outputs": [
    {
     "name": "stdout",
     "output_type": "stream",
     "text": [
      "['audi', 'benz', 'bmw', 'hyundai', 'kia']\n"
     ]
    }
   ],
   "source": [
    "##  Second approach\n",
    "cars.sort()\n",
    "print(cars)"
   ]
  },
  {
   "cell_type": "code",
   "execution_count": 31,
   "id": "5407336f",
   "metadata": {},
   "outputs": [
    {
     "name": "stdout",
     "output_type": "stream",
     "text": [
      "['audi', 'benz', 'bmw', 'hyundai', 'kia']\n"
     ]
    }
   ],
   "source": [
    "print(cars)"
   ]
  },
  {
   "cell_type": "code",
   "execution_count": null,
   "id": "6db66af7",
   "metadata": {},
   "outputs": [],
   "source": [
    "##Difference \n",
    "sort= permanent change in list of order\n",
    "sorted= temporary change in the list of order and eventually gets back to the original list.\n"
   ]
  },
  {
   "cell_type": "code",
   "execution_count": null,
   "id": "e481ea19",
   "metadata": {},
   "outputs": [],
   "source": [
    "##I want to kprint the entire list in reverse order\n",
    "##Ans:  Use reverse :  cars.reverese()"
   ]
  },
  {
   "cell_type": "code",
   "execution_count": 38,
   "id": "841ad068",
   "metadata": {},
   "outputs": [
    {
     "name": "stdout",
     "output_type": "stream",
     "text": [
      "['kia', 'hyundai', 'bmw', 'benz', 'audi']\n"
     ]
    }
   ],
   "source": [
    "cars.reverse()\n",
    "print(cars)"
   ]
  },
  {
   "cell_type": "code",
   "execution_count": 39,
   "id": "ebc5fea8",
   "metadata": {},
   "outputs": [
    {
     "name": "stdout",
     "output_type": "stream",
     "text": [
      "['audi', 'benz', 'bmw', 'hyundai', 'kia']\n"
     ]
    }
   ],
   "source": [
    "cars.reverse()\n",
    "print(cars)"
   ]
  },
  {
   "cell_type": "code",
   "execution_count": 40,
   "id": "55c8a517",
   "metadata": {},
   "outputs": [
    {
     "name": "stdout",
     "output_type": "stream",
     "text": [
      "['kia', 'hyundai', 'bmw', 'benz', 'audi']\n"
     ]
    }
   ],
   "source": [
    "cars.reverse()\n",
    "print(cars)"
   ]
  },
  {
   "cell_type": "code",
   "execution_count": 44,
   "id": "19a37000",
   "metadata": {},
   "outputs": [
    {
     "name": "stdout",
     "output_type": "stream",
     "text": [
      "benz\n"
     ]
    }
   ],
   "source": [
    "\n",
    "print(cars[3])"
   ]
  },
  {
   "cell_type": "code",
   "execution_count": 45,
   "id": "45ad674e",
   "metadata": {},
   "outputs": [
    {
     "data": {
      "text/plain": [
       "list"
      ]
     },
     "execution_count": 45,
     "metadata": {},
     "output_type": "execute_result"
    }
   ],
   "source": [
    "type(cars)"
   ]
  },
  {
   "cell_type": "code",
   "execution_count": 47,
   "id": "ebc9f31f",
   "metadata": {},
   "outputs": [
    {
     "name": "stdout",
     "output_type": "stream",
     "text": [
      "['kia', 'hyundai', 'bmw', 'benz', 'audi', 'tesla']\n"
     ]
    }
   ],
   "source": [
    "cars.append('tesla')\n",
    "print(cars)"
   ]
  },
  {
   "cell_type": "code",
   "execution_count": 48,
   "id": "9781f53a",
   "metadata": {},
   "outputs": [
    {
     "name": "stdout",
     "output_type": "stream",
     "text": [
      "['kia', 'hyundai', 'bmw', 'benz', 'porche', 'audi', 'tesla']\n"
     ]
    }
   ],
   "source": [
    "cars.insert(4,\"porche\")\n",
    "print(cars)"
   ]
  },
  {
   "cell_type": "code",
   "execution_count": 51,
   "id": "47dd0ec8",
   "metadata": {},
   "outputs": [
    {
     "name": "stdout",
     "output_type": "stream",
     "text": [
      "['kia', 'hyundai', 'bmw', 'benz', 'porche']\n"
     ]
    }
   ],
   "source": [
    "del cars[5]\n",
    "print(cars)"
   ]
  },
  {
   "cell_type": "code",
   "execution_count": 59,
   "id": "2d6f9258",
   "metadata": {},
   "outputs": [
    {
     "name": "stdout",
     "output_type": "stream",
     "text": [
      "['porche', 'benz', 'bmw', 'hyundai', 'kia']\n"
     ]
    }
   ],
   "source": [
    "cars.reverse()\n",
    "print(cars)"
   ]
  },
  {
   "cell_type": "code",
   "execution_count": 62,
   "id": "a47bcfd6",
   "metadata": {},
   "outputs": [
    {
     "name": "stdout",
     "output_type": "stream",
     "text": [
      "benz\n"
     ]
    }
   ],
   "source": [
    "print(cars[1])"
   ]
  },
  {
   "cell_type": "code",
   "execution_count": 73,
   "id": "f9f02833",
   "metadata": {},
   "outputs": [
    {
     "name": "stdout",
     "output_type": "stream",
     "text": [
      "cars in order of interest;\n",
      "Porche\n"
     ]
    }
   ],
   "source": [
    "print(f'cars in order of interest;\\n{cars[0].title()}')"
   ]
  },
  {
   "cell_type": "code",
   "execution_count": 74,
   "id": "dde0a5d8",
   "metadata": {},
   "outputs": [
    {
     "name": "stdout",
     "output_type": "stream",
     "text": [
      "Bmw\n"
     ]
    }
   ],
   "source": [
    "print(f'{cars[2].title()}')   ####variations"
   ]
  },
  {
   "cell_type": "code",
   "execution_count": 76,
   "id": "a94b3fca",
   "metadata": {},
   "outputs": [
    {
     "name": "stdout",
     "output_type": "stream",
     "text": [
      "hyundai\n"
     ]
    }
   ],
   "source": [
    "print(cars[3])     ###########"
   ]
  },
  {
   "cell_type": "code",
   "execution_count": 77,
   "id": "9f49ec72",
   "metadata": {},
   "outputs": [
    {
     "name": "stdout",
     "output_type": "stream",
     "text": [
      "Bmw\n"
     ]
    }
   ],
   "source": [
    "print(cars[2].title())   ###########variations"
   ]
  },
  {
   "cell_type": "code",
   "execution_count": null,
   "id": "c180fad3",
   "metadata": {},
   "outputs": [],
   "source": []
  }
 ],
 "metadata": {
  "kernelspec": {
   "display_name": "Python 3 (ipykernel)",
   "language": "python",
   "name": "python3"
  },
  "language_info": {
   "codemirror_mode": {
    "name": "ipython",
    "version": 3
   },
   "file_extension": ".py",
   "mimetype": "text/x-python",
   "name": "python",
   "nbconvert_exporter": "python",
   "pygments_lexer": "ipython3",
   "version": "3.9.7"
  }
 },
 "nbformat": 4,
 "nbformat_minor": 5
}
